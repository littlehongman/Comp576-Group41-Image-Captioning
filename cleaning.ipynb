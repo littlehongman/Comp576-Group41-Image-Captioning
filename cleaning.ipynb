{
  "cells": [
    {
      "cell_type": "code",
      "execution_count": 29,
      "metadata": {
        "collapsed": true,
        "id": "605fxhzbsoGH"
      },
      "outputs": [],
      "source": [
        "import pandas as pd\n",
        "import re"
      ]
    },
    {
      "cell_type": "markdown",
      "metadata": {
        "collapsed": false,
        "id": "P4B8uW2UsoGJ"
      },
      "source": [
        "# Read the data"
      ]
    },
    {
      "cell_type": "code",
      "execution_count": 62,
      "metadata": {
        "colab": {
          "base_uri": "https://localhost:8080/"
        },
        "id": "5xNAr-bMsoGK",
        "outputId": "d7ec4f5d-7e4b-4900-d1f8-c64f0346e582"
      },
      "outputs": [
        {
          "data": {
            "text/plain": [
              "Index(['product_id', 'product_name', 'category', 'discounted_price',\n",
              "       'actual_price', 'discount_percentage', 'rating', 'rating_count',\n",
              "       'about_product', 'user_id', 'user_name', 'review_id', 'review_title',\n",
              "       'review_content', 'img_link', 'product_link'],\n",
              "      dtype='object')"
            ]
          },
          "execution_count": 62,
          "metadata": {},
          "output_type": "execute_result"
        }
      ],
      "source": [
        "data = pd.read_csv('Amazon.csv')\n",
        "data.columns"
      ]
    },
    {
      "cell_type": "markdown",
      "metadata": {
        "collapsed": false,
        "id": "ADSU90X8soGL"
      },
      "source": [
        "# Remove the columns that are not needed"
      ]
    },
    {
      "cell_type": "code",
      "execution_count": 63,
      "metadata": {
        "colab": {
          "base_uri": "https://localhost:8080/"
        },
        "id": "90Dkl-VCsoGL",
        "outputId": "63389057-ef37-4bcf-9857-269fb0ff3952"
      },
      "outputs": [
        {
          "data": {
            "text/plain": [
              "Index(['product_name', 'about_product', 'review_title', 'review_content',\n",
              "       'img_link'],\n",
              "      dtype='object')"
            ]
          },
          "execution_count": 63,
          "metadata": {},
          "output_type": "execute_result"
        }
      ],
      "source": [
        "data = data[['product_name', 'about_product', 'review_title', 'review_content', 'img_link']]\n",
        "data.columns"
      ]
    },
    {
      "cell_type": "code",
      "execution_count": 44,
      "metadata": {
        "colab": {
          "base_uri": "https://localhost:8080/",
          "height": 414
        },
        "id": "zalcMFEKsoGM",
        "outputId": "fb58ebf2-e3fd-4a2f-8c77-e38ebb712d7a"
      },
      "outputs": [
        {
          "data": {
            "text/html": [
              "<div>\n",
              "<style scoped>\n",
              "    .dataframe tbody tr th:only-of-type {\n",
              "        vertical-align: middle;\n",
              "    }\n",
              "\n",
              "    .dataframe tbody tr th {\n",
              "        vertical-align: top;\n",
              "    }\n",
              "\n",
              "    .dataframe thead th {\n",
              "        text-align: right;\n",
              "    }\n",
              "</style>\n",
              "<table border=\"1\" class=\"dataframe\">\n",
              "  <thead>\n",
              "    <tr style=\"text-align: right;\">\n",
              "      <th></th>\n",
              "      <th>product_name</th>\n",
              "      <th>about_product</th>\n",
              "      <th>review_title</th>\n",
              "      <th>review_content</th>\n",
              "      <th>img_link</th>\n",
              "    </tr>\n",
              "  </thead>\n",
              "  <tbody>\n",
              "    <tr>\n",
              "      <th>0</th>\n",
              "      <td>D-Link DWA-131 300 Mbps Wireless Nano USB Adap...</td>\n",
              "      <td>Connects your computer to a high-speed wireles...</td>\n",
              "      <td>good tool to use for,Brand is always good,Over...</td>\n",
              "      <td>good quality tool from d linkWiFi signal is go...</td>\n",
              "      <td>https://m.media-amazon.com/images/I/31+NwZ8gb1...</td>\n",
              "    </tr>\n",
              "    <tr>\n",
              "      <th>1</th>\n",
              "      <td>D-Link DWA-131 300 Mbps Wireless Nano USB Adap...</td>\n",
              "      <td>Connects your computer to a high-speed wireles...</td>\n",
              "      <td>good tool to use for,Brand is always good,Over...</td>\n",
              "      <td>good quality tool from d linkWiFi signal is go...</td>\n",
              "      <td>https://m.media-amazon.com/images/W/WEBP_40237...</td>\n",
              "    </tr>\n",
              "    <tr>\n",
              "      <th>2</th>\n",
              "      <td>TP-Link Nano USB WiFi Dongle 150Mbps High Gain...</td>\n",
              "      <td>150 Mbps Wi-Fi —— Exceptional wireless speed u...</td>\n",
              "      <td>Works on linux for me. Get the model with ante...</td>\n",
              "      <td>I use this to connect an old PC to internet. I...</td>\n",
              "      <td>https://m.media-amazon.com/images/I/31Wb+A3VVd...</td>\n",
              "    </tr>\n",
              "    <tr>\n",
              "      <th>3</th>\n",
              "      <td>Duracell Plus AAA Rechargeable Batteries (750 ...</td>\n",
              "      <td>Duracell Rechargeable AAA 750mAh batteries sta...</td>\n",
              "      <td>Works Good,Perfect replacement cell for trimme...</td>\n",
              "      <td>Works good,Bought it to replace my Phillips QT...</td>\n",
              "      <td>https://m.media-amazon.com/images/I/418YrbHVLC...</td>\n",
              "    </tr>\n",
              "    <tr>\n",
              "      <th>4</th>\n",
              "      <td>Logitech B100 Wired USB Mouse, 3 yr Warranty, ...</td>\n",
              "      <td>A comfortable, ambidextrous shape feels good i...</td>\n",
              "      <td>Handy Mouse,Good quality mouse,Good one.,Good,...</td>\n",
              "      <td>Liked this Product,https://m.media-amazon.com/...</td>\n",
              "      <td>https://m.media-amazon.com/images/I/31iFF1Kbkp...</td>\n",
              "    </tr>\n",
              "  </tbody>\n",
              "</table>\n",
              "</div>"
            ],
            "text/plain": [
              "                                        product_name  \\\n",
              "0  D-Link DWA-131 300 Mbps Wireless Nano USB Adap...   \n",
              "1  D-Link DWA-131 300 Mbps Wireless Nano USB Adap...   \n",
              "2  TP-Link Nano USB WiFi Dongle 150Mbps High Gain...   \n",
              "3  Duracell Plus AAA Rechargeable Batteries (750 ...   \n",
              "4  Logitech B100 Wired USB Mouse, 3 yr Warranty, ...   \n",
              "\n",
              "                                       about_product  \\\n",
              "0  Connects your computer to a high-speed wireles...   \n",
              "1  Connects your computer to a high-speed wireles...   \n",
              "2  150 Mbps Wi-Fi —— Exceptional wireless speed u...   \n",
              "3  Duracell Rechargeable AAA 750mAh batteries sta...   \n",
              "4  A comfortable, ambidextrous shape feels good i...   \n",
              "\n",
              "                                        review_title  \\\n",
              "0  good tool to use for,Brand is always good,Over...   \n",
              "1  good tool to use for,Brand is always good,Over...   \n",
              "2  Works on linux for me. Get the model with ante...   \n",
              "3  Works Good,Perfect replacement cell for trimme...   \n",
              "4  Handy Mouse,Good quality mouse,Good one.,Good,...   \n",
              "\n",
              "                                      review_content  \\\n",
              "0  good quality tool from d linkWiFi signal is go...   \n",
              "1  good quality tool from d linkWiFi signal is go...   \n",
              "2  I use this to connect an old PC to internet. I...   \n",
              "3  Works good,Bought it to replace my Phillips QT...   \n",
              "4  Liked this Product,https://m.media-amazon.com/...   \n",
              "\n",
              "                                            img_link  \n",
              "0  https://m.media-amazon.com/images/I/31+NwZ8gb1...  \n",
              "1  https://m.media-amazon.com/images/W/WEBP_40237...  \n",
              "2  https://m.media-amazon.com/images/I/31Wb+A3VVd...  \n",
              "3  https://m.media-amazon.com/images/I/418YrbHVLC...  \n",
              "4  https://m.media-amazon.com/images/I/31iFF1Kbkp...  "
            ]
          },
          "execution_count": 44,
          "metadata": {},
          "output_type": "execute_result"
        }
      ],
      "source": [
        "data.head()"
      ]
    },
    {
      "cell_type": "markdown",
      "metadata": {
        "id": "5ume8SL1soGM"
      },
      "source": [
        "# Merge Amazon Scrap data"
      ]
    },
    {
      "cell_type": "code",
      "execution_count": 45,
      "metadata": {
        "colab": {
          "base_uri": "https://localhost:8080/"
        },
        "id": "S7VQjn7csoGN",
        "outputId": "06da71f6-0dc7-465c-b6a5-d7c92c4f6b71"
      },
      "outputs": [
        {
          "name": "stdout",
          "output_type": "stream",
          "text": [
            "--2023-11-28 13:46:40--  https://comp576-amazon-raw-files.s3.amazonaws.com/amazon-scrap.csv\n",
            "正在查找主機 comp576-amazon-raw-files.s3.amazonaws.com (comp576-amazon-raw-files.s3.amazonaws.com)... 3.5.11.119, 52.216.216.209, 52.217.104.156, ...\n",
            "正在連接 comp576-amazon-raw-files.s3.amazonaws.com (comp576-amazon-raw-files.s3.amazonaws.com)|3.5.11.119|:443... 連上了。\n",
            "已送出 HTTP 要求，正在等候回應... 200 OK\n",
            "長度: 1951873 (1.9M) [text/csv]\n",
            "儲存到：「amazon-scrap.csv」\n",
            "\n",
            "amazon-scrap.csv    100%[===================>]   1.86M  5.57MB/s  於 0.3s       \n",
            "\n",
            "2023-11-28 13:46:41 (5.57 MB/s) - 已儲存 「amazon-scrap.csv」 [1951873/1951873]\n",
            "\n"
          ]
        }
      ],
      "source": [
        "!wget -O amazon-scrap.csv https://comp576-amazon-raw-files.s3.amazonaws.com/amazon-scrap.csv"
      ]
    },
    {
      "cell_type": "code",
      "execution_count": 64,
      "metadata": {
        "id": "zEzFFpsasoGN"
      },
      "outputs": [],
      "source": [
        "df_scrap = pd.read_csv('amazon-scrap.csv')\n",
        "\n",
        "data = pd.concat([data, df_scrap], ignore_index=True)"
      ]
    },
    {
      "cell_type": "markdown",
      "metadata": {
        "collapsed": false,
        "id": "yESIvn_QsoGN"
      },
      "source": [
        "# Remove the text in brackets in product_name"
      ]
    },
    {
      "cell_type": "code",
      "execution_count": 65,
      "metadata": {
        "colab": {
          "base_uri": "https://localhost:8080/"
        },
        "id": "xfQVf1JosoGN",
        "outputId": "cce91c0b-3a62-48d2-8de0-e18aad26d61a"
      },
      "outputs": [
        {
          "name": "stderr",
          "output_type": "stream",
          "text": [
            "/var/folders/x5/7s5_kq6n4csd_vwyt83pctz40000gn/T/ipykernel_20449/559871520.py:1: FutureWarning: The default value of regex will change from True to False in a future version.\n",
            "  data['product_name'] = data['product_name'].str.replace(r\"\\(.*?\\)\", \"\")\n"
          ]
        }
      ],
      "source": [
        "data['product_name'] = data['product_name'].str.replace(r\"\\(.*?\\)\", \"\")"
      ]
    },
    {
      "cell_type": "code",
      "execution_count": 66,
      "metadata": {
        "id": "clY9YUhtsoGO"
      },
      "outputs": [],
      "source": [
        "from cleantext import clean\n",
        "\n",
        "def clean_text(text, remove_comma=False):\n",
        "\n",
        "    # Remove non-English words but keep '.', ',', '!'\n",
        "    text = re.sub('[^a-zA-Z0-9 \\n.,!-]', '', text)\n",
        "\n",
        "    # Remove comma if nothing follows\n",
        "    text = ','.join([word for word in text.split(',') if word.strip()])\n",
        "\n",
        "    # # Add space to number and unit, ex: 150ft -> 150 ft\n",
        "    text = re.sub(r'(\\d+)([A-Za-z]+)', r'\\1 \\2', text)\n",
        "\n",
        "    # Remove all text after ','\n",
        "    if remove_comma:\n",
        "        text = re.sub(r'[\\,].*', '', text)\n",
        "\n",
        "    # # Remove quote\n",
        "    text = text.replace('\"', '').replace(\"'\", '')\n",
        "\n",
        "    text = clean(text,\n",
        "              fix_unicode=True,               # fix various unicode errors\n",
        "              to_ascii=True,                  # transliterate to closest ASCII representation\n",
        "              lower=True,                     # lowercase text\n",
        "              no_line_breaks=False,           # fully strip line breaks as opposed to only normalizing them\n",
        "              no_urls=True,                   # replace all URLs with a special token\n",
        "              no_emails=False,                # replace all email addresses with a special token\n",
        "              no_phone_numbers=False,         # replace all phone numbers with a special token\n",
        "              no_numbers=False,               # replace all numbers with a special token\n",
        "              no_digits=False,                # replace all digits with a special token\n",
        "              no_currency_symbols=False,      # replace all currency symbols with a special token\n",
        "              no_punct=False,                 # remove punctuations\n",
        "              no_emoji=True,                  # remove emojis\n",
        "              replace_with_punct=\"\",          # instead of removing punctuations you may replace them\n",
        "              replace_with_url=\"\",\n",
        "              replace_with_email=\"\",\n",
        "              replace_with_phone_number=\"\",\n",
        "              replace_with_number=\"<NUMBER>\",\n",
        "              replace_with_currency_symbol=\"\",\n",
        "              lang=\"en\"                       # set to 'de' for German special handling\n",
        "              )\n",
        "    return text"
      ]
    },
    {
      "cell_type": "markdown",
      "metadata": {
        "collapsed": false,
        "id": "iwRguHGtsoGO"
      },
      "source": [
        "# Remove URLs and non-English words"
      ]
    },
    {
      "cell_type": "markdown",
      "metadata": {
        "id": "rlBC3f8c45Fb"
      },
      "source": [
        "Remove row if column is nan\n"
      ]
    },
    {
      "cell_type": "code",
      "execution_count": 67,
      "metadata": {
        "id": "6sgL0qWi48W-"
      },
      "outputs": [],
      "source": [
        "data = data[data['review_content'].notna()]"
      ]
    },
    {
      "cell_type": "code",
      "execution_count": 70,
      "metadata": {
        "id": "wkmhJfS1soGO"
      },
      "outputs": [],
      "source": [
        "data['product_name'] = data['product_name'].apply(clean_text, remove_comma=True)\n",
        "# data['about_product'] = data['about_product'].apply(clean_text)\n",
        "data['review_title'] = data['review_title'].apply(clean_text)\n",
        "data['review_content'] = data['review_content'].apply(clean_text)"
      ]
    },
    {
      "cell_type": "markdown",
      "metadata": {
        "collapsed": false,
        "id": "VRXncs5qsoGO"
      },
      "source": [
        "# Download the images"
      ]
    },
    {
      "cell_type": "code",
      "execution_count": 87,
      "metadata": {
        "id": "vyyp7EjksoGP"
      },
      "outputs": [],
      "source": [
        "!mkdir image"
      ]
    },
    {
      "cell_type": "code",
      "execution_count": 11,
      "metadata": {
        "colab": {
          "base_uri": "https://localhost:8080/"
        },
        "id": "PSie5nuIsoGP",
        "outputId": "f7d4ff50-9d4e-4ca8-9218-39a16fe6e293"
      },
      "outputs": [
        {
          "data": {
            "text/plain": [
              "0    https://m.media-amazon.com/images/I/31+NwZ8gb1...\n",
              "1    https://m.media-amazon.com/images/W/WEBP_40237...\n",
              "2    https://m.media-amazon.com/images/I/31Wb+A3VVd...\n",
              "3    https://m.media-amazon.com/images/I/418YrbHVLC...\n",
              "4    https://m.media-amazon.com/images/I/31iFF1Kbkp...\n",
              "Name: img_link, dtype: object"
            ]
          },
          "execution_count": 11,
          "metadata": {},
          "output_type": "execute_result"
        }
      ],
      "source": [
        "data['img_link'].head()"
      ]
    },
    {
      "cell_type": "code",
      "execution_count": 51,
      "metadata": {
        "id": "ogX7PdBVsoGP"
      },
      "outputs": [],
      "source": [
        "import requests\n",
        "from PIL import Image\n",
        "\n",
        "def download_image(url, file_name, index):\n",
        "    r = requests.get(url, stream=True)\n",
        "\n",
        "    # First check if the image is already downloaded\n",
        "    try:\n",
        "        img = Image.open('image/' + str(index) + '.jpg')\n",
        "\n",
        "        return True\n",
        "    except:\n",
        "        # If not, download it\n",
        "        if r.status_code == 200:\n",
        "            with open(file_name, 'wb') as f:\n",
        "                for chunk in r:\n",
        "                    f.write(chunk)\n",
        "\n",
        "            return True\n",
        "\n",
        "        else:\n",
        "            print('Image couldn\\'t be retrieved for ' + file_name, url)\n",
        "            return False"
      ]
    },
    {
      "cell_type": "code",
      "execution_count": 52,
      "metadata": {
        "id": "Rf4srHozsoGP"
      },
      "outputs": [
        {
          "name": "stdout",
          "output_type": "stream",
          "text": [
            "Image couldn't be retrieved for image/9.jpg https://m.media-amazon.com/images/W/WEBP_402378-T2/images/I/41vJcrdr5mL._SY300_SX300_QL70_FMwebp_.jpg\n",
            "Image couldn't be retrieved for image/10.jpg https://m.media-amazon.com/images/W/WEBP_402378-T2/images/I/313jBpnrJVL._SX300_SY300_QL70_FMwebp_.jpg\n",
            "Image couldn't be retrieved for image/11.jpg https://m.media-amazon.com/images/W/WEBP_402378-T1/images/I/21m+6LxEnOL._SY300_SX300_.jpg\n",
            "Image couldn't be retrieved for image/12.jpg https://m.media-amazon.com/images/W/WEBP_402378-T1/images/I/31c6zDmtEnL._SY300_SX300_QL70_FMwebp_.jpg\n",
            "Image couldn't be retrieved for image/19.jpg https://m.media-amazon.com/images/W/WEBP_402378-T1/images/I/31M+TYWPdQL._SY300_SX300_.jpg\n",
            "Image couldn't be retrieved for image/20.jpg https://m.media-amazon.com/images/W/WEBP_402378-T1/images/I/316Q0fvU+2L._SY300_SX300_.jpg\n",
            "Image couldn't be retrieved for image/21.jpg https://m.media-amazon.com/images/W/WEBP_402378-T1/images/I/41Xp77o+-YL._SX300_SY300_.jpg\n",
            "Image couldn't be retrieved for image/22.jpg https://m.media-amazon.com/images/W/WEBP_402378-T2/images/I/31R2gaVLwYL._SX300_SY300_QL70_FMwebp_.jpg\n",
            "Image couldn't be retrieved for image/26.jpg https://m.media-amazon.com/images/W/WEBP_402378-T1/images/I/31A-v4dVHmL._SX300_SY300_QL70_FMwebp_.jpg\n",
            "Image couldn't be retrieved for image/28.jpg https://m.media-amazon.com/images/W/WEBP_402378-T2/images/I/411ZPXAMTlL._SY300_SX300_QL70_FMwebp_.jpg\n",
            "Image couldn't be retrieved for image/30.jpg https://m.media-amazon.com/images/W/WEBP_402378-T1/images/I/31Di52QEVdL._SX300_SY300_QL70_FMwebp_.jpg\n",
            "Image couldn't be retrieved for image/31.jpg https://m.media-amazon.com/images/W/WEBP_402378-T1/images/I/41B-iX4Pf5L._SX300_SY300_QL70_FMwebp_.jpg\n",
            "Image couldn't be retrieved for image/32.jpg https://m.media-amazon.com/images/W/WEBP_402378-T2/images/I/41WyoT08raL._SX300_SY300_QL70_FMwebp_.jpg\n",
            "Image couldn't be retrieved for image/35.jpg https://m.media-amazon.com/images/W/WEBP_402378-T1/images/I/21n1BGPOHBL._SX300_SY300_QL70_FMwebp_.jpg\n",
            "Image couldn't be retrieved for image/43.jpg https://m.media-amazon.com/images/W/WEBP_402378-T2/images/I/412fxJY-gxL._SX300_SY300_QL70_FMwebp_.jpg\n",
            "Image couldn't be retrieved for image/44.jpg https://m.media-amazon.com/images/W/WEBP_402378-T2/images/I/41X6hey-ExL._SX300_SY300_QL70_FMwebp_.jpg\n",
            "Image couldn't be retrieved for image/51.jpg https://m.media-amazon.com/images/W/WEBP_402378-T2/images/I/31RK9+CyhoL._SY300_SX300_.jpg\n",
            "Image couldn't be retrieved for image/53.jpg https://m.media-amazon.com/images/W/WEBP_402378-T2/images/I/41oK+rXtssS._SY300_SX300_.jpg\n",
            "Image couldn't be retrieved for image/54.jpg https://m.media-amazon.com/images/W/WEBP_402378-T1/images/I/41Wb7LHAeLL._SY300_SX300_QL70_FMwebp_.jpg\n",
            "Image couldn't be retrieved for image/56.jpg https://m.media-amazon.com/images/W/WEBP_402378-T2/images/I/31AQqe9fbJL._SX300_SY300_QL70_FMwebp_.jpg\n",
            "Image couldn't be retrieved for image/60.jpg https://m.media-amazon.com/images/W/WEBP_402378-T1/images/I/31rucE-db2L._SX300_SY300_QL70_FMwebp_.jpg\n",
            "Image couldn't be retrieved for image/61.jpg https://m.media-amazon.com/images/W/WEBP_402378-T1/images/I/41ORNeJrRxL._SX300_SY300_QL70_FMwebp_.jpg\n",
            "Image couldn't be retrieved for image/63.jpg https://m.media-amazon.com/images/W/WEBP_402378-T1/images/I/51pNg1Zy4+L._SX300_SY300_.jpg\n",
            "Image couldn't be retrieved for image/72.jpg https://m.media-amazon.com/images/W/WEBP_402378-T1/images/I/51mCZQzY6SL._SX300_SY300_QL70_FMwebp_.jpg\n",
            "Image couldn't be retrieved for image/74.jpg https://m.media-amazon.com/images/W/WEBP_402378-T1/images/I/4127NZ2xG6L._SX300_SY300_QL70_FMwebp_.jpg\n",
            "Image couldn't be retrieved for image/79.jpg https://m.media-amazon.com/images/W/WEBP_402378-T1/images/I/5145vqMSaTL._SY300_SX300_QL70_FMwebp_.jpg\n",
            "Image couldn't be retrieved for image/80.jpg https://m.media-amazon.com/images/W/WEBP_402378-T1/images/I/4136eo-yWlL._SX300_SY300_QL70_FMwebp_.jpg\n",
            "Image couldn't be retrieved for image/86.jpg https://m.media-amazon.com/images/W/WEBP_402378-T2/images/I/41zNLdERuiL._SX300_SY300_QL70_FMwebp_.jpg\n",
            "Image couldn't be retrieved for image/91.jpg https://m.media-amazon.com/images/W/WEBP_402378-T1/images/I/31Dj+5AQcJL._SY300_SX300_.jpg\n",
            "Image couldn't be retrieved for image/92.jpg https://m.media-amazon.com/images/W/WEBP_402378-T1/images/I/31nlfClYn7L._SX300_SY300_QL70_FMwebp_.jpg\n",
            "Image couldn't be retrieved for image/96.jpg https://m.media-amazon.com/images/W/WEBP_402378-T1/images/I/41Fqm0bR7PL._SX300_SY300_QL70_FMwebp_.jpg\n",
            "Image couldn't be retrieved for image/102.jpg https://m.media-amazon.com/images/W/WEBP_402378-T1/images/I/41DwZuxPCaL._SY300_SX300_QL70_FMwebp_.jpg\n",
            "Image couldn't be retrieved for image/104.jpg https://m.media-amazon.com/images/W/WEBP_402378-T2/images/I/51R1cOolXRL._SX300_SY300_QL70_FMwebp_.jpg\n",
            "Image couldn't be retrieved for image/109.jpg https://m.media-amazon.com/images/W/WEBP_402378-T1/images/I/31hwosM2Q1L._SX300_SY300_QL70_FMwebp_.jpg\n",
            "Image couldn't be retrieved for image/114.jpg https://m.media-amazon.com/images/W/WEBP_402378-T2/images/I/31-jt474B1L._SX300_SY300_QL70_FMwebp_.jpg\n",
            "Image couldn't be retrieved for image/116.jpg https://m.media-amazon.com/images/W/WEBP_402378-T2/images/I/41emm+fTJmL._SX300_SY300_.jpg\n",
            "Image couldn't be retrieved for image/120.jpg https://m.media-amazon.com/images/W/WEBP_402378-T1/images/I/41oLhpKArFL._SY300_SX300_QL70_FMwebp_.jpg\n",
            "Image couldn't be retrieved for image/122.jpg https://m.media-amazon.com/images/W/WEBP_402378-T1/images/I/219039qa+PL._SY300_SX300_.jpg\n",
            "Image couldn't be retrieved for image/126.jpg https://m.media-amazon.com/images/W/WEBP_402378-T1/images/I/31puHGasbOL._SX300_SY300_QL70_FMwebp_.jpg\n",
            "Image couldn't be retrieved for image/128.jpg https://m.media-amazon.com/images/W/WEBP_402378-T1/images/I/31MVkjIpLiL._SX300_SY300_QL70_FMwebp_.jpg\n",
            "Image couldn't be retrieved for image/129.jpg https://m.media-amazon.com/images/W/WEBP_402378-T2/images/I/517nCRsjYeL._SX300_SY300_QL70_FMwebp_.jpg\n",
            "Image couldn't be retrieved for image/130.jpg https://m.media-amazon.com/images/W/WEBP_402378-T1/images/I/4178Hx01kZL._SY300_SX300_QL70_FMwebp_.jpg\n",
            "Image couldn't be retrieved for image/133.jpg https://m.media-amazon.com/images/W/WEBP_402378-T1/images/I/51mvimcd7EL._SY445_SX342_QL70_FMwebp_.jpg\n",
            "Image couldn't be retrieved for image/135.jpg https://m.media-amazon.com/images/W/WEBP_402378-T2/images/I/31SAqKSRWyL._SX300_SY300_QL70_FMwebp_.jpg\n",
            "Image couldn't be retrieved for image/136.jpg https://m.media-amazon.com/images/W/WEBP_402378-T1/images/I/410d2Vda6QS._SY300_SX300_QL70_FMwebp_.jpg\n",
            "Image couldn't be retrieved for image/138.jpg https://m.media-amazon.com/images/W/WEBP_402378-T2/images/I/31mgo4D-kPL._SX300_SY300_QL70_FMwebp_.jpg\n",
            "Image couldn't be retrieved for image/144.jpg https://m.media-amazon.com/images/W/WEBP_402378-T2/images/I/415nVOD7bWL._SX300_SY300_QL70_FMwebp_.jpg\n",
            "Image couldn't be retrieved for image/154.jpg https://m.media-amazon.com/images/W/WEBP_402378-T1/images/I/41wL36XZGXL._SX300_SY300_QL70_FMwebp_.jpg\n",
            "Image couldn't be retrieved for image/156.jpg https://m.media-amazon.com/images/W/WEBP_402378-T1/images/I/41JrUgIbYOL._SX300_SY300_QL70_FMwebp_.jpg\n",
            "Image couldn't be retrieved for image/166.jpg https://m.media-amazon.com/images/W/WEBP_402378-T2/images/I/31NnmYempPL._SX300_SY300_QL70_FMwebp_.jpg\n",
            "Image couldn't be retrieved for image/178.jpg https://m.media-amazon.com/images/W/WEBP_402378-T1/images/I/411pUp4t0OL._SX300_SY300_QL70_FMwebp_.jpg\n",
            "Image couldn't be retrieved for image/182.jpg https://m.media-amazon.com/images/W/WEBP_402378-T2/images/I/414y0iu5NUL._SX300_SY300_QL70_FMwebp_.jpg\n",
            "Image couldn't be retrieved for image/186.jpg https://m.media-amazon.com/images/W/WEBP_402378-T1/images/I/314QZXF1dHL._SY300_SX300_QL70_FMwebp_.jpg\n",
            "Image couldn't be retrieved for image/191.jpg https://m.media-amazon.com/images/W/WEBP_402378-T2/images/I/31y-oJ1XnqL._SX300_SY300_QL70_FMwebp_.jpg\n",
            "Image couldn't be retrieved for image/192.jpg https://m.media-amazon.com/images/W/WEBP_402378-T1/images/I/41NYfAbBY2L._SX300_SY300_QL70_FMwebp_.jpg\n",
            "Image couldn't be retrieved for image/193.jpg https://m.media-amazon.com/images/W/WEBP_402378-T2/images/I/41AcG6PavXL._SX300_SY300_QL70_FMwebp_.jpg\n",
            "Image couldn't be retrieved for image/196.jpg https://m.media-amazon.com/images/W/WEBP_402378-T1/images/I/31R5FtHMDiL._SY300_SX300_QL70_FMwebp_.jpg\n",
            "Image couldn't be retrieved for image/197.jpg https://m.media-amazon.com/images/W/WEBP_402378-T1/images/I/41YlkgRwHVL._SX300_SY300_QL70_FMwebp_.jpg\n",
            "Image couldn't be retrieved for image/198.jpg https://m.media-amazon.com/images/W/WEBP_402378-T2/images/I/31RpzeqSq3L._SX300_SY300_QL70_FMwebp_.jpg\n",
            "Image couldn't be retrieved for image/200.jpg https://m.media-amazon.com/images/W/WEBP_402378-T1/images/I/31bCliyezAL._SX300_SY300_QL70_FMwebp_.jpg\n",
            "Image couldn't be retrieved for image/206.jpg https://m.media-amazon.com/images/W/WEBP_402378-T2/images/I/41nYaR0z9fL._SX300_SY300_QL70_FMwebp_.jpg\n",
            "Image couldn't be retrieved for image/219.jpg https://m.media-amazon.com/images/W/WEBP_402378-T1/images/I/315uFBgWK3L._SX300_SY300_QL70_FMwebp_.jpg\n",
            "Image couldn't be retrieved for image/220.jpg https://m.media-amazon.com/images/W/WEBP_402378-T1/images/I/31VoHcKK5ZL._SX300_SY300_QL70_FMwebp_.jpg\n",
            "Image couldn't be retrieved for image/227.jpg https://m.media-amazon.com/images/W/WEBP_402378-T1/images/I/51MWh9t3Z2L._SX300_SY300_QL70_FMwebp_.jpg\n",
            "Image couldn't be retrieved for image/236.jpg https://m.media-amazon.com/images/W/WEBP_402378-T1/images/I/413KQ6Ch61L._SX300_SY300_QL70_FMwebp_.jpg\n",
            "Image couldn't be retrieved for image/245.jpg https://m.media-amazon.com/images/W/WEBP_402378-T1/images/I/31nrDWDT8+L._SX300_SY300_.jpg\n",
            "Image couldn't be retrieved for image/246.jpg https://m.media-amazon.com/images/W/WEBP_402378-T1/images/I/31nrDWDT8+L._SX300_SY300_.jpg\n",
            "Image couldn't be retrieved for image/248.jpg https://m.media-amazon.com/images/W/WEBP_402378-T1/images/I/41tcKYuBPSL._SX300_SY300_QL70_FMwebp_.jpg\n",
            "Image couldn't be retrieved for image/251.jpg https://m.media-amazon.com/images/W/WEBP_402378-T1/images/I/41Uk8sX-WkL._SX300_SY300_QL70_FMwebp_.jpg\n",
            "Image couldn't be retrieved for image/252.jpg https://m.media-amazon.com/images/W/WEBP_402378-T2/images/I/41QEK7WRJbL._SX300_SY300_QL70_FMwebp_.jpg\n",
            "Image couldn't be retrieved for image/255.jpg https://m.media-amazon.com/images/W/WEBP_402378-T1/images/I/41n2MqMIH5L._SX300_SY300_QL70_FMwebp_.jpg\n",
            "Image couldn't be retrieved for image/256.jpg https://m.media-amazon.com/images/W/WEBP_402378-T1/images/I/41v0JSmcIuL._SY300_SX300_QL70_FMwebp_.jpg\n",
            "Image couldn't be retrieved for image/259.jpg https://m.media-amazon.com/images/W/WEBP_402378-T1/images/I/41c7bJo7ooL._SX300_SY300_QL70_FMwebp_.jpg\n",
            "Image couldn't be retrieved for image/260.jpg https://m.media-amazon.com/images/W/WEBP_402378-T1/images/I/41N+hHYrIWL._SY300_SX300_.jpg\n",
            "Image couldn't be retrieved for image/270.jpg https://m.media-amazon.com/images/W/WEBP_402378-T2/images/I/310sR2giQrL._SX300_SY300_QL70_FMwebp_.jpg\n",
            "Image couldn't be retrieved for image/271.jpg https://m.media-amazon.com/images/W/WEBP_402378-T1/images/I/21vWJo4CXKL._SX300_SY300_QL70_FMwebp_.jpg\n",
            "Image couldn't be retrieved for image/281.jpg https://m.media-amazon.com/images/W/WEBP_402378-T2/images/I/411UTnBl2TL._SX300_SY300_QL70_FMwebp_.jpg\n",
            "Image couldn't be retrieved for image/284.jpg https://m.media-amazon.com/images/W/WEBP_402378-T2/images/I/31991seDfcL._SY300_SX300_QL70_FMwebp_.jpg\n",
            "Image couldn't be retrieved for image/289.jpg https://m.media-amazon.com/images/W/WEBP_402378-T1/images/I/31gRT7Gvw7L._SY300_SX300_QL70_FMwebp_.jpg\n",
            "Image couldn't be retrieved for image/294.jpg https://m.media-amazon.com/images/W/WEBP_402378-T1/images/I/41lS2bd15fL._SX300_SY300_QL70_FMwebp_.jpg\n",
            "Image couldn't be retrieved for image/295.jpg https://m.media-amazon.com/images/W/WEBP_402378-T1/images/I/41Gt21tmhTL._SX300_SY300_QL70_FMwebp_.jpg\n",
            "Image couldn't be retrieved for image/308.jpg https://m.media-amazon.com/images/W/WEBP_402378-T1/images/I/41pb+fODkVL._SX300_SY300_.jpg\n",
            "Image couldn't be retrieved for image/309.jpg https://m.media-amazon.com/images/W/WEBP_402378-T2/images/I/31VSKlEpP-L._SX300_SY300_QL70_FMwebp_.jpg\n",
            "Image couldn't be retrieved for image/316.jpg https://m.media-amazon.com/images/W/WEBP_402378-T2/images/I/41UJEnTJpVL._SX300_SY300_QL70_FMwebp_.jpg\n",
            "Image couldn't be retrieved for image/320.jpg https://m.media-amazon.com/images/W/WEBP_402378-T1/images/I/41DXzzwydTL._SX300_SY300_QL70_FMwebp_.jpg\n",
            "Image couldn't be retrieved for image/323.jpg https://m.media-amazon.com/images/W/WEBP_402378-T2/images/I/51M0UevRosL._SY300_SX300_QL70_FMwebp_.jpg\n",
            "Image couldn't be retrieved for image/324.jpg https://m.media-amazon.com/images/W/WEBP_402378-T2/images/I/31B7DwG79FL._SY445_SX342_QL70_FMwebp_.jpg\n",
            "Image couldn't be retrieved for image/329.jpg https://m.media-amazon.com/images/W/WEBP_402378-T1/images/I/413ZmbHlAKL._SX300_SY300_QL70_FMwebp_.jpg\n",
            "Image couldn't be retrieved for image/336.jpg https://m.media-amazon.com/images/W/WEBP_402378-T1/images/I/41J6oGU8w5L._SX300_SY300_QL70_FMwebp_.jpg\n",
            "Image couldn't be retrieved for image/339.jpg https://m.media-amazon.com/images/W/WEBP_402378-T2/images/I/41mtYvY3VdS._SX300_SY300_QL70_FMwebp_.jpg\n",
            "Image couldn't be retrieved for image/344.jpg https://m.media-amazon.com/images/W/WEBP_402378-T2/images/I/31-RWRwJZOL._SX300_SY300_QL70_FMwebp_.jpg\n",
            "Image couldn't be retrieved for image/346.jpg https://m.media-amazon.com/images/W/WEBP_402378-T2/images/I/41KYzWomjVL._SX300_SY300_QL70_FMwebp_.jpg\n",
            "Image couldn't be retrieved for image/349.jpg https://m.media-amazon.com/images/W/WEBP_402378-T1/images/I/51Ule90yh0L._SX300_SY300_QL70_FMwebp_.jpg\n",
            "Image couldn't be retrieved for image/350.jpg https://m.media-amazon.com/images/W/WEBP_402378-T2/images/I/31C+JNS-7PL._SY300_SX300_.jpg\n",
            "Image couldn't be retrieved for image/352.jpg https://m.media-amazon.com/images/W/WEBP_402378-T2/images/I/51zIKeCjN-L._SX300_SY300_QL70_FMwebp_.jpg\n",
            "Image couldn't be retrieved for image/353.jpg https://m.media-amazon.com/images/W/WEBP_402378-T1/images/I/413viCgpI+L._SY300_SX300_.jpg\n",
            "Image couldn't be retrieved for image/354.jpg https://m.media-amazon.com/images/W/WEBP_402378-T2/images/I/31RWtNDo6EL._SX300_SY300_QL70_FMwebp_.jpg\n",
            "Image couldn't be retrieved for image/359.jpg https://m.media-amazon.com/images/W/WEBP_402378-T2/images/I/41c80KrMZgL._SY445_SX342_QL70_FMwebp_.jpg\n",
            "Image couldn't be retrieved for image/363.jpg https://m.media-amazon.com/images/W/WEBP_402378-T1/images/I/41rB0DnVFmL._SX300_SY300_QL70_FMwebp_.jpg\n",
            "Image couldn't be retrieved for image/367.jpg https://m.media-amazon.com/images/W/WEBP_402378-T1/images/I/51IMz58igdL._SX300_SY300_QL70_FMwebp_.jpg\n",
            "Image couldn't be retrieved for image/369.jpg https://m.media-amazon.com/images/W/WEBP_402378-T2/images/I/31pzC6I+bEL._SY300_SX300_.jpg\n",
            "Image couldn't be retrieved for image/381.jpg https://m.media-amazon.com/images/W/WEBP_402378-T2/images/I/51X7oG9862L._SX300_SY300_QL70_FMwebp_.jpg\n",
            "Image couldn't be retrieved for image/385.jpg https://m.media-amazon.com/images/W/WEBP_402378-T2/images/I/41lYqkaeadL._SX300_SY300_QL70_FMwebp_.jpg\n",
            "Image couldn't be retrieved for image/386.jpg https://m.media-amazon.com/images/W/WEBP_402378-T1/images/I/41JWKjRa+PL._SX300_SY300_.jpg\n",
            "Image couldn't be retrieved for image/388.jpg https://m.media-amazon.com/images/W/WEBP_402378-T2/images/I/51rzz4zoUBL._SX300_SY300_QL70_FMwebp_.jpg\n",
            "Image couldn't be retrieved for image/391.jpg https://m.media-amazon.com/images/W/WEBP_402378-T2/images/I/41xmv3WPs7L._SX300_SY300_QL70_FMwebp_.jpg\n",
            "Image couldn't be retrieved for image/392.jpg https://m.media-amazon.com/images/W/WEBP_402378-T1/images/I/31IdziegWVL._SX300_SY300_QL70_FMwebp_.jpg\n",
            "Image couldn't be retrieved for image/393.jpg https://m.media-amazon.com/images/W/WEBP_402378-T2/images/I/41UPNmnPgeL._SY300_SX300_QL70_FMwebp_.jpg\n",
            "Image couldn't be retrieved for image/396.jpg https://m.media-amazon.com/images/W/WEBP_402378-T2/images/I/31MNWLE6vuL._SY300_SX300_QL70_FMwebp_.jpg\n",
            "Image couldn't be retrieved for image/406.jpg https://m.media-amazon.com/images/W/WEBP_402378-T2/images/I/51cqrmW48+L._SY300_SX300_.jpg\n",
            "Image couldn't be retrieved for image/411.jpg https://m.media-amazon.com/images/W/WEBP_402378-T2/images/I/41rDN2Ylj1L._SX300_SY300_QL70_FMwebp_.jpg\n",
            "Image couldn't be retrieved for image/419.jpg https://m.media-amazon.com/images/W/WEBP_402378-T1/images/I/317ws2QblnL._SX300_SY300_QL70_FMwebp_.jpg\n",
            "Image couldn't be retrieved for image/425.jpg https://m.media-amazon.com/images/W/WEBP_402378-T2/images/I/41--5lc96UL._SX300_SY300_QL70_FMwebp_.jpg\n",
            "Image couldn't be retrieved for image/438.jpg https://m.media-amazon.com/images/W/WEBP_402378-T1/images/I/414PLTPvJBL._SX300_SY300_QL70_FMwebp_.jpg\n",
            "Image couldn't be retrieved for image/440.jpg https://m.media-amazon.com/images/W/WEBP_402378-T1/images/I/41IymCXFA7L._SX300_SY300_QL70_FMwebp_.jpg\n",
            "Image couldn't be retrieved for image/443.jpg https://m.media-amazon.com/images/W/WEBP_402378-T1/images/I/415pqPUbDVL._SX300_SY300_QL70_FMwebp_.jpg\n",
            "Image couldn't be retrieved for image/444.jpg https://m.media-amazon.com/images/W/WEBP_402378-T2/images/I/31DYx7AhW6L._SX300_SY300_QL70_FMwebp_.jpg\n",
            "Image couldn't be retrieved for image/455.jpg https://m.media-amazon.com/images/W/WEBP_402378-T1/images/I/41JCf4kTKgL._SX300_SY300_QL70_FMwebp_.jpg\n",
            "Image couldn't be retrieved for image/456.jpg https://m.media-amazon.com/images/W/WEBP_402378-T1/images/I/31p014p14mL._SX342_SY445_QL70_FMwebp_.jpg\n",
            "Image couldn't be retrieved for image/457.jpg https://m.media-amazon.com/images/W/WEBP_402378-T2/images/I/31fpyR3mU4L._SX300_SY300_QL70_FMwebp_.jpg\n",
            "Image couldn't be retrieved for image/458.jpg https://m.media-amazon.com/images/W/WEBP_402378-T1/images/I/31iDEczWTWL._SX300_SY300_QL70_FMwebp_.jpg\n",
            "Image couldn't be retrieved for image/459.jpg https://m.media-amazon.com/images/W/WEBP_402378-T2/images/I/41rm-mc937L._SX300_SY300_QL70_FMwebp_.jpg\n",
            "Image couldn't be retrieved for image/467.jpg https://m.media-amazon.com/images/W/WEBP_402378-T1/images/I/51UH57Cs5hL._SX300_SY300_QL70_FMwebp_.jpg\n",
            "Image couldn't be retrieved for image/477.jpg https://m.media-amazon.com/images/W/WEBP_402378-T1/images/I/31TLru4LT8L._SX300_SY300_QL70_FMwebp_.jpg\n",
            "Image couldn't be retrieved for image/489.jpg https://m.media-amazon.com/images/W/WEBP_402378-T1/images/I/31na34LxwmL._SX300_SY300_QL70_FMwebp_.jpg\n",
            "Image couldn't be retrieved for image/502.jpg https://m.media-amazon.com/images/W/WEBP_402378-T2/images/I/31C71rcp+1L._SY300_SX300_.jpg\n",
            "Image couldn't be retrieved for image/503.jpg https://m.media-amazon.com/images/W/WEBP_402378-T1/images/I/41XtCfScreS._SX300_SY300_QL70_FMwebp_.jpg\n",
            "Image couldn't be retrieved for image/516.jpg https://m.media-amazon.com/images/W/WEBP_402378-T2/images/I/41UD9vNsIjS._SX300_SY300_QL70_FMwebp_.jpg\n",
            "Image couldn't be retrieved for image/520.jpg https://m.media-amazon.com/images/W/WEBP_402378-T1/images/I/31A6Arm+F7L._SY300_SX300_.jpg\n",
            "Image couldn't be retrieved for image/522.jpg https://m.media-amazon.com/images/W/WEBP_402378-T1/images/I/41jJqhC9nfL._SX300_SY300_QL70_FMwebp_.jpg\n",
            "Image couldn't be retrieved for image/523.jpg https://m.media-amazon.com/images/W/WEBP_402378-T1/images/I/31bMTTJF1xL._SY300_SX300_QL70_FMwebp_.jpg\n",
            "Image couldn't be retrieved for image/526.jpg https://m.media-amazon.com/images/W/WEBP_402378-T2/images/I/41qMoS4lfRL._SX300_SY300_QL70_FMwebp_.jpg\n",
            "Image couldn't be retrieved for image/527.jpg https://m.media-amazon.com/images/W/WEBP_402378-T2/images/I/41Mktp5hVIL._SX300_SY300_QL70_FMwebp_.jpg\n",
            "Image couldn't be retrieved for image/537.jpg https://m.media-amazon.com/images/W/WEBP_402378-T1/images/I/31QVpoSYsrL._SX300_SY300_QL70_FMwebp_.jpg\n",
            "Image couldn't be retrieved for image/539.jpg https://m.media-amazon.com/images/W/WEBP_402378-T2/images/I/41cAIdLrGPL._SX300_SY300_QL70_FMwebp_.jpg\n",
            "Image couldn't be retrieved for image/540.jpg https://m.media-amazon.com/images/W/WEBP_402378-T1/images/I/516xGB5Bt+L._SY300_SX300_.jpg\n",
            "Image couldn't be retrieved for image/541.jpg https://m.media-amazon.com/images/W/WEBP_402378-T2/images/I/31lKVhGarbL._SX300_SY300_QL70_FMwebp_.jpg\n",
            "Image couldn't be retrieved for image/544.jpg https://m.media-amazon.com/images/W/WEBP_402378-T2/images/I/31kj3q4SepL._SY445_SX342_QL70_FMwebp_.jpg\n",
            "Image couldn't be retrieved for image/571.jpg https://m.media-amazon.com/images/W/WEBP_402378-T1/images/I/51xmNdrIlcS._SY300_SX300_QL70_FMwebp_.jpg\n",
            "Image couldn't be retrieved for image/583.jpg https://m.media-amazon.com/images/W/WEBP_402378-T2/images/I/41IZ3JvOvwL._SX300_SY300_QL70_FMwebp_.jpg\n",
            "Image couldn't be retrieved for image/598.jpg https://m.media-amazon.com/images/W/WEBP_402378-T2/images/I/411ZrOollDL._SX300_SY300_QL70_FMwebp_.jpg\n",
            "Image couldn't be retrieved for image/601.jpg https://m.media-amazon.com/images/W/WEBP_402378-T1/images/I/41BDLm8-jLL._SX300_SY300_QL70_FMwebp_.jpg\n",
            "Image couldn't be retrieved for image/604.jpg https://m.media-amazon.com/images/W/WEBP_402378-T1/images/I/417iICYt3IL._SX300_SY300_QL70_FMwebp_.jpg\n",
            "Image couldn't be retrieved for image/618.jpg https://m.media-amazon.com/images/W/WEBP_402378-T1/images/I/31Vt3iyEaIL._SX300_SY300_QL70_FMwebp_.jpg\n",
            "Image couldn't be retrieved for image/620.jpg https://m.media-amazon.com/images/W/WEBP_402378-T1/images/I/41jmiwgyu8L._SX300_SY300_QL70_FMwebp_.jpg\n",
            "Image couldn't be retrieved for image/621.jpg https://m.media-amazon.com/images/W/WEBP_402378-T2/images/I/41Bi9ZwBQ7L._SX300_SY300_QL70_FMwebp_.jpg\n",
            "Image couldn't be retrieved for image/624.jpg https://m.media-amazon.com/images/W/WEBP_402378-T1/images/I/41PeQz-jDSL._SX300_SY300_QL70_FMwebp_.jpg\n",
            "Image couldn't be retrieved for image/627.jpg https://m.media-amazon.com/images/W/WEBP_402378-T1/images/I/31pQZsxPR4L._SX300_SY300_QL70_FMwebp_.jpg\n",
            "Image couldn't be retrieved for image/637.jpg https://m.media-amazon.com/images/W/WEBP_402378-T2/images/I/41QNSlZeKiL._SX300_SY300_QL70_FMwebp_.jpg\n",
            "Image couldn't be retrieved for image/641.jpg https://m.media-amazon.com/images/W/WEBP_402378-T2/images/I/416A01cyQYL._SX300_SY300_QL70_FMwebp_.jpg\n",
            "Image couldn't be retrieved for image/642.jpg https://m.media-amazon.com/images/W/WEBP_402378-T1/images/I/41q7gsgB+gL._SY300_SX300_.jpg\n",
            "Image couldn't be retrieved for image/649.jpg https://m.media-amazon.com/images/W/WEBP_402378-T1/images/I/41ZraPJKHYL._SY300_SX300_QL70_FMwebp_.jpg\n",
            "Image couldn't be retrieved for image/650.jpg https://m.media-amazon.com/images/W/WEBP_402378-T2/images/I/41sK3J5ZQIL._SX300_SY300_QL70_FMwebp_.jpg\n",
            "Image couldn't be retrieved for image/656.jpg https://m.media-amazon.com/images/W/WEBP_402378-T2/images/I/31ulmi5lTYL._SX300_SY300_QL70_FMwebp_.jpg\n",
            "Image couldn't be retrieved for image/658.jpg https://m.media-amazon.com/images/W/WEBP_402378-T1/images/I/31h559f7EaL._SX300_SY300_QL70_FMwebp_.jpg\n",
            "Image couldn't be retrieved for image/662.jpg https://m.media-amazon.com/images/W/WEBP_402378-T2/images/I/51v-2Nzr+ML._SY300_SX300_.jpg\n",
            "Image couldn't be retrieved for image/663.jpg https://m.media-amazon.com/images/W/WEBP_402378-T2/images/I/51v-2Nzr+ML._SY300_SX300_.jpg\n",
            "Image couldn't be retrieved for image/679.jpg https://m.media-amazon.com/images/W/WEBP_402378-T1/images/I/31Tz8DcmevL._SX300_SY300_QL70_FMwebp_.jpg\n",
            "Image couldn't be retrieved for image/685.jpg https://m.media-amazon.com/images/W/WEBP_402378-T2/images/I/4145oJH-y0L._SX300_SY300_QL70_FMwebp_.jpg\n",
            "Image couldn't be retrieved for image/687.jpg https://m.media-amazon.com/images/W/WEBP_402378-T1/images/I/41nGG6kJr9L._SX300_SY300_QL70_FMwebp_.jpg\n",
            "Image couldn't be retrieved for image/693.jpg https://m.media-amazon.com/images/W/WEBP_402378-T1/images/I/41V5FtEWPkL._SX300_SY300_QL70_FMwebp_.jpg\n",
            "Image couldn't be retrieved for image/702.jpg https://m.media-amazon.com/images/W/WEBP_402378-T2/images/I/41mRWV0YG8L._SX300_SY300_QL70_FMwebp_.jpg\n",
            "Image couldn't be retrieved for image/706.jpg https://m.media-amazon.com/images/W/WEBP_402378-T1/images/I/41kr7l+z1FL._SY300_SX300_.jpg\n",
            "Image couldn't be retrieved for image/709.jpg https://m.media-amazon.com/images/W/WEBP_402378-T1/images/I/41V4DpKc7sL._SX300_SY300_QL70_FMwebp_.jpg\n",
            "Image couldn't be retrieved for image/721.jpg https://m.media-amazon.com/images/W/WEBP_402378-T2/images/I/41-AORr2udL._SX300_SY300_QL70_FMwebp_.jpg\n",
            "Image couldn't be retrieved for image/725.jpg https://m.media-amazon.com/images/W/WEBP_402378-T2/images/I/41m4oS2gbcL._SY300_SX300_QL70_FMwebp_.jpg\n",
            "Image couldn't be retrieved for image/726.jpg https://m.media-amazon.com/images/W/WEBP_402378-T1/images/I/41bvBlmqDdL._SX300_SY300_QL70_FMwebp_.jpg\n",
            "Image couldn't be retrieved for image/730.jpg https://m.media-amazon.com/images/W/WEBP_402378-T2/images/I/41mcGL9ei0L._SX300_SY300_QL70_FMwebp_.jpg\n",
            "Image couldn't be retrieved for image/742.jpg https://m.media-amazon.com/images/W/WEBP_402378-T2/images/I/41-76LhAc4S._SX300_SY300_QL70_FMwebp_.jpg\n",
            "Image couldn't be retrieved for image/746.jpg https://m.media-amazon.com/images/W/WEBP_402378-T2/images/I/41vooC+8vUL._SY300_SX300_.jpg\n",
            "Image couldn't be retrieved for image/752.jpg https://m.media-amazon.com/images/W/WEBP_402378-T2/images/I/41-VkhORGAL._SX300_SY300_QL70_FMwebp_.jpg\n",
            "Image couldn't be retrieved for image/755.jpg https://m.media-amazon.com/images/W/WEBP_402378-T1/images/I/41+b6inZEkL._SX300_SY300_.jpg\n",
            "Image couldn't be retrieved for image/756.jpg https://m.media-amazon.com/images/W/WEBP_402378-T2/images/I/51HNUsgY29L._SY300_SX300_QL70_FMwebp_.jpg\n",
            "Image couldn't be retrieved for image/759.jpg https://m.media-amazon.com/images/W/WEBP_402378-T2/images/I/51SzLWO7e+L._SY300_SX300_.jpg\n",
            "Image couldn't be retrieved for image/761.jpg https://m.media-amazon.com/images/W/WEBP_402378-T2/images/I/419QKVTxaSL._SX300_SY300_QL70_FMwebp_.jpg\n",
            "Image couldn't be retrieved for image/769.jpg https://m.media-amazon.com/images/W/WEBP_402378-T2/images/I/41F-EWC+v+L._SY300_SX300_.jpg\n",
            "Image couldn't be retrieved for image/771.jpg https://m.media-amazon.com/images/W/WEBP_402378-T1/images/I/416GZEi9SuL._SX300_SY300_QL70_FMwebp_.jpg\n",
            "Image couldn't be retrieved for image/774.jpg https://m.media-amazon.com/images/W/WEBP_402378-T1/images/I/41o4qDiFFwL._SX300_SY300_QL70_FMwebp_.jpg\n",
            "Image couldn't be retrieved for image/784.jpg https://m.media-amazon.com/images/W/WEBP_402378-T2/images/I/51fYpZRmZ2L._SX300_SY300_QL70_FMwebp_.jpg\n",
            "Image couldn't be retrieved for image/788.jpg https://m.media-amazon.com/images/W/WEBP_402378-T2/images/I/31LsgYDJNkL._SX300_SY300_QL70_FMwebp_.jpg\n",
            "Image couldn't be retrieved for image/790.jpg https://m.media-amazon.com/images/W/WEBP_402378-T2/images/I/51ngprQwafL._SY300_SX300_QL70_FMwebp_.jpg\n",
            "Image couldn't be retrieved for image/792.jpg https://m.media-amazon.com/images/W/WEBP_402378-T1/images/I/31HCup1pqFL._SX300_SY300_QL70_FMwebp_.jpg\n",
            "Image couldn't be retrieved for image/806.jpg https://m.media-amazon.com/images/W/WEBP_402378-T2/images/I/41oSVnJMFKL._SX300_SY300_QL70_FMwebp_.jpg\n",
            "Image couldn't be retrieved for image/811.jpg https://m.media-amazon.com/images/W/WEBP_402378-T1/images/I/51pl09bEsHL._SY445_SX342_QL70_FMwebp_.jpg\n",
            "Image couldn't be retrieved for image/814.jpg https://m.media-amazon.com/images/W/WEBP_402378-T1/images/I/41xwPQLxTML._SX300_SY300_QL70_FMwebp_.jpg\n",
            "Image couldn't be retrieved for image/816.jpg https://m.media-amazon.com/images/W/WEBP_402378-T1/images/I/31DXRMiRYLL._SX300_SY300_QL70_FMwebp_.jpg\n",
            "Image couldn't be retrieved for image/817.jpg https://m.media-amazon.com/images/W/WEBP_402378-T2/images/I/41jlwEZpa5L._SX300_SY300_QL70_FMwebp_.jpg\n",
            "Image couldn't be retrieved for image/819.jpg https://m.media-amazon.com/images/W/WEBP_402378-T2/images/I/41jlwEZpa5L._SX300_SY300_QL70_FMwebp_.jpg\n",
            "Image couldn't be retrieved for image/823.jpg https://m.media-amazon.com/images/W/WEBP_402378-T2/images/I/313wnMF+cVL._SX342_SY445_.jpg\n",
            "Image couldn't be retrieved for image/824.jpg https://m.media-amazon.com/images/W/WEBP_402378-T2/images/I/21Nw+BXh1kS._SY300_SX300_.jpg\n",
            "Image couldn't be retrieved for image/825.jpg https://m.media-amazon.com/images/W/WEBP_402378-T1/images/I/41NxAkv7knL._SX300_SY300_QL70_FMwebp_.jpg\n",
            "Image couldn't be retrieved for image/834.jpg https://m.media-amazon.com/images/W/WEBP_402378-T1/images/I/41SqfLI2FuL._SX300_SY300_QL70_FMwebp_.jpg\n",
            "Image couldn't be retrieved for image/835.jpg https://m.media-amazon.com/images/W/WEBP_402378-T2/images/I/41CB7sKZvCL._SX300_SY300_QL70_FMwebp_.jpg\n",
            "Image couldn't be retrieved for image/837.jpg https://m.media-amazon.com/images/W/WEBP_402378-T1/images/I/31NRaw6L7KL._SX300_SY300_QL70_FMwebp_.jpg\n",
            "Image couldn't be retrieved for image/839.jpg https://m.media-amazon.com/images/W/WEBP_402378-T2/images/I/512Lrv2A-pL._SX300_SY300_QL70_FMwebp_.jpg\n",
            "Image couldn't be retrieved for image/843.jpg https://m.media-amazon.com/images/W/WEBP_402378-T1/images/I/41sA8PA31pL._SY300_SX300_QL70_FMwebp_.jpg\n",
            "Image couldn't be retrieved for image/849.jpg https://m.media-amazon.com/images/W/WEBP_402378-T2/images/I/31y+z3bqZcL._SY300_SX300_.jpg\n",
            "Image couldn't be retrieved for image/850.jpg https://m.media-amazon.com/images/W/WEBP_402378-T2/images/I/41qTZXl3KaL._SX300_SY300_QL70_FMwebp_.jpg\n",
            "Image couldn't be retrieved for image/851.jpg https://m.media-amazon.com/images/W/WEBP_402378-T1/images/I/411dgEJpANL._SX300_SY300_QL70_FMwebp_.jpg\n",
            "Image couldn't be retrieved for image/853.jpg https://m.media-amazon.com/images/W/WEBP_402378-T2/images/I/415mgfOmzUS._SX300_SY300_QL70_FMwebp_.jpg\n",
            "Image couldn't be retrieved for image/856.jpg https://m.media-amazon.com/images/W/WEBP_402378-T1/images/I/41Y9XnzBHTL._SY300_SX300_QL70_FMwebp_.jpg\n",
            "Image couldn't be retrieved for image/860.jpg https://m.media-amazon.com/images/W/WEBP_402378-T2/images/I/317-HiMYIgS._SY300_SX300_QL70_FMwebp_.jpg\n",
            "Image couldn't be retrieved for image/863.jpg https://m.media-amazon.com/images/W/WEBP_402378-T1/images/I/41lGZWRZqOS._SX300_SY300_QL70_FMwebp_.jpg\n",
            "Image couldn't be retrieved for image/866.jpg https://m.media-amazon.com/images/W/WEBP_402378-T2/images/I/416+IXsM9lL._SY300_SX300_.jpg\n",
            "Image couldn't be retrieved for image/867.jpg https://m.media-amazon.com/images/W/WEBP_402378-T2/images/I/51JIngdPfEL._SX300_SY300_QL70_FMwebp_.jpg\n",
            "Image couldn't be retrieved for image/870.jpg https://m.media-amazon.com/images/W/WEBP_402378-T2/images/I/41GeM83DzzL._SX300_SY300_QL70_FMwebp_.jpg\n",
            "Image couldn't be retrieved for image/890.jpg https://m.media-amazon.com/images/W/WEBP_402378-T1/images/I/41h9kA2Tt7S._SX300_SY300_QL70_FMwebp_.jpg\n",
            "Image couldn't be retrieved for image/892.jpg https://m.media-amazon.com/images/W/WEBP_402378-T1/images/I/41P+nvE9FYL._SY300_SX300_.jpg\n",
            "Image couldn't be retrieved for image/897.jpg https://m.media-amazon.com/images/W/WEBP_402378-T2/images/I/3172BJyynBS._SY300_SX300_QL70_FMwebp_.jpg\n",
            "Image couldn't be retrieved for image/899.jpg https://m.media-amazon.com/images/W/WEBP_402378-T1/images/I/31z9cuviPzL._SX300_SY300_QL70_FMwebp_.jpg\n",
            "Image couldn't be retrieved for image/902.jpg https://m.media-amazon.com/images/W/WEBP_402378-T1/images/I/41XH-IpxCQL._SX300_SY300_QL70_FMwebp_.jpg\n",
            "Image couldn't be retrieved for image/903.jpg https://m.media-amazon.com/images/W/WEBP_402378-T2/images/I/31zh7GQSkfL._SX300_SY300_QL70_FMwebp_.jpg\n",
            "Image couldn't be retrieved for image/904.jpg https://m.media-amazon.com/images/W/WEBP_402378-T1/images/I/31YrFqskR7L._SX300_SY300_QL70_FMwebp_.jpg\n",
            "Image couldn't be retrieved for image/907.jpg https://m.media-amazon.com/images/W/WEBP_402378-T2/images/I/31nZs1BL4tL._SX300_SY300_QL70_FMwebp_.jpg\n",
            "Image couldn't be retrieved for image/912.jpg https://m.media-amazon.com/images/W/WEBP_402378-T2/images/I/418ML1Yn1cL._SX300_SY300_QL70_FMwebp_.jpg\n",
            "Image couldn't be retrieved for image/914.jpg https://m.media-amazon.com/images/W/WEBP_402378-T1/images/I/31TZq2dY-hL._SX300_SY300_QL70_FMwebp_.jpg\n",
            "Image couldn't be retrieved for image/921.jpg https://m.media-amazon.com/images/W/WEBP_402378-T1/images/I/21UJ6oKwnoL._SY300_SX300_QL70_FMwebp_.jpg\n",
            "Image couldn't be retrieved for image/923.jpg https://m.media-amazon.com/images/W/WEBP_402378-T2/images/I/51HO3bkK+VS._SY300_SX300_.jpg\n",
            "Image couldn't be retrieved for image/933.jpg https://m.media-amazon.com/images/W/WEBP_402378-T1/images/I/31qZm3DyDhL._SX300_SY300_QL70_FMwebp_.jpg\n",
            "Image couldn't be retrieved for image/944.jpg https://m.media-amazon.com/images/W/WEBP_402378-T1/images/I/413aXXtr4CL._SX300_SY300_QL70_FMwebp_.jpg\n",
            "Image couldn't be retrieved for image/946.jpg https://m.media-amazon.com/images/W/WEBP_402378-T1/images/I/41qhsp6qcNL._SX300_SY300_QL70_FMwebp_.jpg\n",
            "Image couldn't be retrieved for image/947.jpg https://m.media-amazon.com/images/W/WEBP_402378-T1/images/I/41v5BQZzfAL._SX300_SY300_QL70_FMwebp_.jpg\n",
            "Image couldn't be retrieved for image/958.jpg https://m.media-amazon.com/images/W/WEBP_402378-T2/images/I/31x3IUfMneL._SX300_SY300_QL70_FMwebp_.jpg\n",
            "Image couldn't be retrieved for image/967.jpg https://m.media-amazon.com/images/W/WEBP_402378-T2/images/I/41xL87ElgjL._SY300_SX300_QL70_FMwebp_.jpg\n",
            "Image couldn't be retrieved for image/970.jpg https://m.media-amazon.com/images/W/WEBP_402378-T2/images/I/315sEpeo50L._SX300_SY300_QL70_FMwebp_.jpg\n",
            "Image couldn't be retrieved for image/972.jpg https://m.media-amazon.com/images/W/WEBP_402378-T1/images/I/51q3+E64azL._SX300_SY300_.jpg\n",
            "Image couldn't be retrieved for image/975.jpg https://m.media-amazon.com/images/W/WEBP_402378-T2/images/I/41611VFTGwL._SY300_SX300_QL70_FMwebp_.jpg\n",
            "Image couldn't be retrieved for image/978.jpg https://m.media-amazon.com/images/W/WEBP_402378-T1/images/I/41Qu+vkjbcL._SY300_SX300_.jpg\n",
            "Image couldn't be retrieved for image/981.jpg https://m.media-amazon.com/images/W/WEBP_402378-T1/images/I/31ixn2s6IbL._SX300_SY300_QL70_FMwebp_.jpg\n",
            "Image couldn't be retrieved for image/985.jpg https://m.media-amazon.com/images/W/WEBP_402378-T2/images/I/31hqtiqWTaL._SX300_SY300_QL70_FMwebp_.jpg\n",
            "Image couldn't be retrieved for image/993.jpg https://m.media-amazon.com/images/W/WEBP_402378-T1/images/I/31D9nttNSPL._SX300_SY300_QL70_FMwebp_.jpg\n",
            "Image couldn't be retrieved for image/994.jpg https://m.media-amazon.com/images/W/WEBP_402378-T2/images/I/411uVIJr+QL._SY300_SX300_.jpg\n",
            "Image couldn't be retrieved for image/1007.jpg https://m.media-amazon.com/images/W/WEBP_402378-T1/images/I/41TUgf0W8uL._SX300_SY300_QL70_FMwebp_.jpg\n",
            "Image couldn't be retrieved for image/1009.jpg https://m.media-amazon.com/images/W/WEBP_402378-T2/images/I/41UoZi45q9L._SX300_SY300_QL70_FMwebp_.jpg\n",
            "Image couldn't be retrieved for image/1011.jpg https://m.media-amazon.com/images/W/WEBP_402378-T1/images/I/31g2BiAmVjL._SY300_SX300_QL70_FMwebp_.jpg\n",
            "Image couldn't be retrieved for image/1023.jpg https://m.media-amazon.com/images/W/WEBP_402378-T1/images/I/41JnGOKI2dL._SX300_SY300_QL70_FMwebp_.jpg\n",
            "Image couldn't be retrieved for image/1034.jpg https://m.media-amazon.com/images/W/WEBP_402378-T2/images/I/21JwUdnWL4L._SX300_SY300_QL70_FMwebp_.jpg\n",
            "Image couldn't be retrieved for image/1038.jpg https://m.media-amazon.com/images/W/WEBP_402378-T1/images/I/31GCzAA+FyL._SY300_SX300_.jpg\n",
            "Image couldn't be retrieved for image/1039.jpg https://images-na.ssl-images-amazon.com/images/W/WEBP_402378-T1/images/I/41d17oVYVeL._SX300_SY300_QL70_FMwebp_.jpg\n",
            "Image couldn't be retrieved for image/1042.jpg https://m.media-amazon.com/images/W/WEBP_402378-T2/images/I/21UKIwf0IVL._SX300_SY300_QL70_FMwebp_.jpg\n",
            "Image couldn't be retrieved for image/1043.jpg https://m.media-amazon.com/images/W/WEBP_402378-T2/images/I/41UBtJFuwEL._SX300_SY300_QL70_FMwebp_.jpg\n",
            "Image couldn't be retrieved for image/1045.jpg https://m.media-amazon.com/images/W/WEBP_402378-T1/images/I/31uBcZhDMjL._SX300_SY300_QL70_FMwebp_.jpg\n",
            "Image couldn't be retrieved for image/1047.jpg https://m.media-amazon.com/images/W/WEBP_402378-T2/images/I/21XzK-guXHL._SX300_SY300_QL70_FMwebp_.jpg\n",
            "Image couldn't be retrieved for image/1057.jpg https://m.media-amazon.com/images/W/WEBP_402378-T2/images/I/21SHZOWOynL._SX300_SY300_QL70_FMwebp_.jpg\n",
            "Image couldn't be retrieved for image/1065.jpg https://m.media-amazon.com/images/W/WEBP_402378-T1/images/I/41-kc5sVOQL._SX300_SY300_QL70_FMwebp_.jpg\n",
            "Image couldn't be retrieved for image/1067.jpg https://m.media-amazon.com/images/W/WEBP_402378-T1/images/I/31nIcqmP0zL._SX300_SY300_QL70_FMwebp_.jpg\n",
            "Image couldn't be retrieved for image/1068.jpg https://m.media-amazon.com/images/W/WEBP_402378-T1/images/I/51eq6GwXn-L._SX300_SY300_QL70_FMwebp_.jpg\n",
            "Image couldn't be retrieved for image/1073.jpg https://m.media-amazon.com/images/W/WEBP_402378-T2/images/I/31DDGpem3OL._SY445_SX342_QL70_FMwebp_.jpg\n",
            "Image couldn't be retrieved for image/1080.jpg https://m.media-amazon.com/images/W/WEBP_402378-T1/images/I/51B4Ea7gRCL._SX300_SY300_QL70_FMwebp_.jpg\n",
            "Image couldn't be retrieved for image/1092.jpg https://m.media-amazon.com/images/W/WEBP_402378-T1/images/I/31psvbJkfOL._SY300_SX300_QL70_FMwebp_.jpg\n",
            "Image couldn't be retrieved for image/1095.jpg https://m.media-amazon.com/images/W/WEBP_402378-T2/images/I/31w1SSKA-tL._SX300_SY300_QL70_FMwebp_.jpg\n",
            "Image couldn't be retrieved for image/1096.jpg https://m.media-amazon.com/images/W/WEBP_402378-T1/images/I/21df9THeM-L._SX300_SY300_QL70_FMwebp_.jpg\n",
            "Image couldn't be retrieved for image/1109.jpg https://m.media-amazon.com/images/W/WEBP_402378-T1/images/I/41A4CcuIJuL._SY445_SX342_QL70_FMwebp_.jpg\n",
            "Image couldn't be retrieved for image/1127.jpg https://m.media-amazon.com/images/W/WEBP_402378-T1/images/I/41P2EdQI1ZL._SY445_SX342_QL70_FMwebp_.jpg\n",
            "Image couldn't be retrieved for image/1131.jpg https://m.media-amazon.com/images/W/WEBP_402378-T2/images/I/31kDhgD+VYL._SX300_SY300_.jpg\n",
            "Image couldn't be retrieved for image/1132.jpg https://m.media-amazon.com/images/W/WEBP_402378-T1/images/I/31CndDabh2L._SX300_SY300_QL70_FMwebp_.jpg\n",
            "Image couldn't be retrieved for image/1143.jpg https://m.media-amazon.com/images/W/WEBP_402378-T2/images/I/31kFRC4fP6L._SY300_SX300_QL70_FMwebp_.jpg\n",
            "Image couldn't be retrieved for image/1145.jpg https://m.media-amazon.com/images/W/WEBP_402378-T2/images/I/41dNwzNOc3L._SX300_SY300_QL70_FMwebp_.jpg\n",
            "Image couldn't be retrieved for image/1155.jpg https://m.media-amazon.com/images/W/WEBP_402378-T2/images/I/41t4-FpawsL._SX300_SY300_QL70_FMwebp_.jpg\n",
            "Image couldn't be retrieved for image/1156.jpg https://m.media-amazon.com/images/W/WEBP_402378-T2/images/I/51ovMTXv9RL._SX300_SY300_QL70_FMwebp_.jpg\n",
            "Image couldn't be retrieved for image/1158.jpg https://m.media-amazon.com/images/W/WEBP_402378-T1/images/I/31qaROshXhL._SX300_SY300_QL70_FMwebp_.jpg\n",
            "Image couldn't be retrieved for image/1162.jpg https://m.media-amazon.com/images/W/WEBP_402378-T2/images/I/51kEztAe73L._SX300_SY300_QL70_FMwebp_.jpg\n",
            "Image couldn't be retrieved for image/1165.jpg https://m.media-amazon.com/images/W/WEBP_402378-T2/images/I/4177nw8okbL._SX300_SY300_QL70_FMwebp_.jpg\n",
            "Image couldn't be retrieved for image/1168.jpg https://m.media-amazon.com/images/W/WEBP_402378-T2/images/I/41HoeX-PcDL._SY445_SX342_QL70_FMwebp_.jpg\n",
            "Image couldn't be retrieved for image/1169.jpg https://m.media-amazon.com/images/W/WEBP_402378-T1/images/I/41YFjcEIwWL._SX300_SY300_QL70_FMwebp_.jpg\n",
            "Image couldn't be retrieved for image/1178.jpg https://m.media-amazon.com/images/W/WEBP_402378-T1/images/I/41x8yDAjWJL._SX300_SY300_QL70_FMwebp_.jpg\n",
            "Image couldn't be retrieved for image/1192.jpg https://m.media-amazon.com/images/W/WEBP_402378-T1/images/I/31oK2IDhhLL._SX300_SY300_QL70_FMwebp_.jpg\n",
            "Image couldn't be retrieved for image/1197.jpg https://m.media-amazon.com/images/W/WEBP_402378-T1/images/I/213GZPC7uwL._SX300_SY300_QL70_FMwebp_.jpg\n",
            "Image couldn't be retrieved for image/1198.jpg https://m.media-amazon.com/images/W/WEBP_402378-T1/images/I/41WD+zBGibL._SY300_SX300_.jpg\n",
            "Image couldn't be retrieved for image/1201.jpg https://m.media-amazon.com/images/W/WEBP_402378-T2/images/I/31VemHkewfL._SX300_SY300_QL70_FMwebp_.jpg\n",
            "Image couldn't be retrieved for image/1202.jpg https://m.media-amazon.com/images/W/WEBP_402378-T1/images/I/31l-eZHBfKL._SX300_SY300_QL70_FMwebp_.jpg\n",
            "Image couldn't be retrieved for image/1205.jpg https://m.media-amazon.com/images/W/WEBP_402378-T2/images/I/414P4JCZY-L._SX300_SY300_QL70_FMwebp_.jpg\n",
            "Image couldn't be retrieved for image/1212.jpg https://m.media-amazon.com/images/W/WEBP_402378-T2/images/I/41ApzUQQFVL._SX300_SY300_QL70_FMwebp_.jpg\n",
            "Image couldn't be retrieved for image/1228.jpg https://m.media-amazon.com/images/W/WEBP_402378-T2/images/I/31ZMMGdh5nL._SX300_SY300_QL70_FMwebp_.jpg\n",
            "Image couldn't be retrieved for image/1231.jpg https://m.media-amazon.com/images/W/WEBP_402378-T1/images/I/41IAkUhz1NL._SY300_SX300_QL70_FMwebp_.jpg\n",
            "Image couldn't be retrieved for image/1233.jpg https://m.media-amazon.com/images/W/WEBP_402378-T2/images/I/31Ly7OehCGL._SX300_SY300_QL70_FMwebp_.jpg\n",
            "Image couldn't be retrieved for image/1239.jpg https://m.media-amazon.com/images/W/WEBP_402378-T2/images/I/41ECCMs7tjL._SY300_SX300_QL70_FMwebp_.jpg\n",
            "Image couldn't be retrieved for image/1241.jpg https://m.media-amazon.com/images/W/WEBP_402378-T2/images/I/31ylgpMYDwL._SX300_SY300_QL70_FMwebp_.jpg\n",
            "Image couldn't be retrieved for image/1248.jpg https://m.media-amazon.com/images/W/WEBP_402378-T2/images/I/31i5nmWFmhL._SX300_SY300_QL70_FMwebp_.jpg\n",
            "Image couldn't be retrieved for image/1261.jpg https://m.media-amazon.com/images/W/WEBP_402378-T1/images/I/31tk9yOK-qL._SX300_SY300_QL70_FMwebp_.jpg\n",
            "Image couldn't be retrieved for image/1286.jpg https://m.media-amazon.com/images/W/WEBP_402378-T1/images/I/31KGeL7u8hL._SX300_SY300_QL70_FMwebp_.jpg\n",
            "Image couldn't be retrieved for image/1287.jpg https://m.media-amazon.com/images/W/WEBP_402378-T2/images/I/51dOjIreG4L._SX300_SY300_QL70_FMwebp_.jpg\n",
            "Image couldn't be retrieved for image/1288.jpg https://m.media-amazon.com/images/W/WEBP_402378-T1/images/I/51dOjIreG4L._SX300_SY300_QL70_FMwebp_.jpg\n",
            "Image couldn't be retrieved for image/1289.jpg https://m.media-amazon.com/images/W/WEBP_402378-T1/images/I/41Q5zqyjWPL._SY300_SX300_QL70_FMwebp_.jpg\n",
            "Image couldn't be retrieved for image/1301.jpg https://m.media-amazon.com/images/W/WEBP_402378-T1/images/I/41ipWb8mrKL._SX300_SY300_QL70_FMwebp_.jpg\n",
            "Image couldn't be retrieved for image/1309.jpg https://m.media-amazon.com/images/W/WEBP_402378-T2/images/I/31XFe74gRjL._SX300_SY300_QL70_FMwebp_.jpg\n",
            "Image couldn't be retrieved for image/1316.jpg https://m.media-amazon.com/images/W/WEBP_402378-T2/images/I/51wxUA6-CBL._SX300_SY300_QL70_FMwebp_.jpg\n",
            "Image couldn't be retrieved for image/1322.jpg https://m.media-amazon.com/images/W/WEBP_402378-T2/images/I/31MQ2YXMb4L._SY445_SX342_QL70_FMwebp_.jpg\n",
            "Image couldn't be retrieved for image/1324.jpg https://m.media-amazon.com/images/W/WEBP_402378-T1/images/I/41Wq-obB2VL._SX300_SY300_QL70_FMwebp_.jpg\n",
            "Image couldn't be retrieved for image/1325.jpg https://m.media-amazon.com/images/W/WEBP_402378-T2/images/I/31tiptnSbZL._SX300_SY300_QL70_FMwebp_.jpg\n",
            "Image couldn't be retrieved for image/1327.jpg https://m.media-amazon.com/images/W/WEBP_402378-T2/images/I/41Peg4pz7fL._SX300_SY300_QL70_FMwebp_.jpg\n",
            "Image couldn't be retrieved for image/1331.jpg https://m.media-amazon.com/images/W/WEBP_402378-T2/images/I/41SNaWjuZWL._SX300_SY300_QL70_FMwebp_.jpg\n",
            "Image couldn't be retrieved for image/1332.jpg https://m.media-amazon.com/images/W/WEBP_402378-T1/images/I/41SNaWjuZWL._SX300_SY300_QL70_FMwebp_.jpg\n",
            "Image couldn't be retrieved for image/1335.jpg https://m.media-amazon.com/images/W/WEBP_402378-T2/images/I/41wgqEfJy3L._SX300_SY300_QL70_FMwebp_.jpg\n",
            "Image couldn't be retrieved for image/1337.jpg https://m.media-amazon.com/images/W/WEBP_402378-T2/images/I/31q4l5k9uOL._SX300_SY300_QL70_FMwebp_.jpg\n",
            "Image couldn't be retrieved for image/1338.jpg https://m.media-amazon.com/images/W/WEBP_402378-T1/images/I/61Vt5Egqf4L._SY445_SX342_QL70_FMwebp_.jpg\n",
            "Image couldn't be retrieved for image/1342.jpg https://m.media-amazon.com/images/W/WEBP_402378-T2/images/I/41GTMteNtdL._SX300_SY300_QL70_FMwebp_.jpg\n",
            "Image couldn't be retrieved for image/1353.jpg https://m.media-amazon.com/images/W/WEBP_402378-T1/images/I/41gztmbiIgL._SX300_SY300_QL70_FMwebp_.jpg\n",
            "Image couldn't be retrieved for image/1363.jpg https://m.media-amazon.com/images/W/WEBP_402378-T1/images/I/31RZz5dsEVL._SX300_SY300_QL70_FMwebp_.jpg\n",
            "Image couldn't be retrieved for image/1375.jpg https://m.media-amazon.com/images/W/WEBP_402378-T1/images/I/41KMMCNMM1L._SX300_SY300_QL70_FMwebp_.jpg\n",
            "Image couldn't be retrieved for image/1392.jpg https://m.media-amazon.com/images/W/WEBP_402378-T1/images/I/413b+0JACfL._SX300_SY300_.jpg\n",
            "Image couldn't be retrieved for image/1393.jpg https://m.media-amazon.com/images/W/WEBP_402378-T2/images/I/41pdZIhY+gL._SY300_SX300_.jpg\n",
            "Image couldn't be retrieved for image/1395.jpg https://m.media-amazon.com/images/W/WEBP_402378-T1/images/I/31i-KNZeKML._SX300_SY300_QL70_FMwebp_.jpg\n",
            "Image couldn't be retrieved for image/1415.jpg https://m.media-amazon.com/images/W/WEBP_402378-T2/images/I/41rbKciLrcL._SX300_SY300_QL70_FMwebp_.jpg\n",
            "Image couldn't be retrieved for image/1418.jpg https://m.media-amazon.com/images/W/WEBP_402378-T1/images/I/41e3A7YKxeL._SX300_SY300_QL70_FMwebp_.jpg\n",
            "Image couldn't be retrieved for image/1421.jpg https://m.media-amazon.com/images/W/WEBP_402378-T1/images/I/41AKgxsBONL._SY300_SX300_QL70_FMwebp_.jpg\n",
            "Image couldn't be retrieved for image/1425.jpg https://m.media-amazon.com/images/W/WEBP_402378-T2/images/I/41NSz+RdSoL._SX342_SY445_.jpg\n",
            "Image couldn't be retrieved for image/1426.jpg https://m.media-amazon.com/images/W/WEBP_402378-T1/images/I/41ZvKRULvDL._SY445_SX342_QL70_FMwebp_.jpg\n",
            "Image couldn't be retrieved for image/1445.jpg https://m.media-amazon.com/images/W/WEBP_402378-T1/images/I/416wtLbGHvL._SX300_SY300_QL70_FMwebp_.jpg\n",
            "Image couldn't be retrieved for image/1457.jpg https://m.media-amazon.com/images/W/WEBP_402378-T1/images/I/41hoHTbN5rL._SX300_SY300_QL70_FMwebp_.jpg\n",
            "Image couldn't be retrieved for image/1458.jpg https://m.media-amazon.com/images/W/WEBP_402378-T1/images/I/51ey0zzictL._SX300_SY300_QL70_FMwebp_.jpg\n",
            "Image couldn't be retrieved for image/1459.jpg https://m.media-amazon.com/images/W/WEBP_402378-T1/images/I/51ey0zzictL._SX300_SY300_QL70_FMwebp_.jpg\n"
          ]
        }
      ],
      "source": [
        "skipped_index = set()\n",
        "\n",
        "for i, row in data.iterrows():\n",
        "    # if image exists, skip\n",
        "    exist = download_image(row['img_link'], 'image/' + str(i) + '.jpg', i)\n",
        "\n",
        "    if not exist:\n",
        "        skipped_index.add(i)"
      ]
    },
    {
      "cell_type": "code",
      "execution_count": 71,
      "metadata": {},
      "outputs": [
        {
          "data": {
            "text/plain": [
              "312"
            ]
          },
          "execution_count": 71,
          "metadata": {},
          "output_type": "execute_result"
        }
      ],
      "source": [
        "len(skipped_index)"
      ]
    },
    {
      "cell_type": "code",
      "execution_count": 72,
      "metadata": {
        "id": "5Ylzo256soGP"
      },
      "outputs": [],
      "source": [
        "# Drop the rows that don't have images\n",
        "data = data.drop(skipped_index)"
      ]
    },
    {
      "cell_type": "code",
      "execution_count": 73,
      "metadata": {},
      "outputs": [
        {
          "data": {
            "text/plain": [
              "5998"
            ]
          },
          "execution_count": 73,
          "metadata": {},
          "output_type": "execute_result"
        }
      ],
      "source": [
        "len(data)"
      ]
    },
    {
      "cell_type": "markdown",
      "metadata": {
        "collapsed": false,
        "id": "Twziu_sXsoGP"
      },
      "source": [
        "# Save the data"
      ]
    },
    {
      "cell_type": "code",
      "execution_count": 74,
      "metadata": {
        "id": "YXtgnciGsoGP"
      },
      "outputs": [],
      "source": [
        "data.to_csv('Amazon_cleaned.csv', index_label='index')"
      ]
    },
    {
      "cell_type": "code",
      "execution_count": 59,
      "metadata": {
        "id": "mma69VnNsoGP"
      },
      "outputs": [],
      "source": [
        "from PIL import Image\n",
        "\n",
        "# check if every image is downloaded\n",
        "\n",
        "for i, row in data.iterrows():\n",
        "    try:\n",
        "        img = Image.open('image/' + str(i) + '.jpg')\n",
        "    except:\n",
        "        print(i)"
      ]
    },
    {
      "cell_type": "code",
      "execution_count": 75,
      "metadata": {
        "id": "oFVSzKaksoGP"
      },
      "outputs": [],
      "source": [
        "!zip -r -qq image.zip image"
      ]
    },
    {
      "cell_type": "code",
      "execution_count": null,
      "metadata": {
        "id": "jWRezE5RsoGP",
        "outputId": "9df16454-04a6-47c4-876d-0907d17bc3aa"
      },
      "outputs": [
        {
          "name": "stdout",
          "output_type": "stream",
          "text": [
            "2022-02-12 05:33:10 cf-templates-7x4o2u7ssxah-us-east-1\r\n",
            "2023-11-16 13:07:55 comp576-image-data\r\n"
          ]
        }
      ],
      "source": [
        "!aws s3 ls --profile iamadmin-general"
      ]
    },
    {
      "cell_type": "code",
      "execution_count": 76,
      "metadata": {},
      "outputs": [
        {
          "name": "stdout",
          "output_type": "stream",
          "text": [
            "zsh:1: command not found: aws\n"
          ]
        }
      ],
      "source": [
        "!aws s3 cp image.zip s3://comp576-image-data/ --acl public-read"
      ]
    },
    {
      "cell_type": "code",
      "execution_count": null,
      "metadata": {
        "id": "YBy31onasoGQ",
        "outputId": "88422653-b448-4ab1-ba97-7458f10ceb37"
      },
      "outputs": [
        {
          "name": "stdout",
          "output_type": "stream",
          "text": [
            "upload: ./image.zip to s3://comp576-image-data/image.zip          \r\n"
          ]
        }
      ],
      "source": [
        "!aws s3 cp image.zip s3://comp576-image-data/ --acl public-read --profile iamadmin-general"
      ]
    },
    {
      "cell_type": "code",
      "execution_count": null,
      "metadata": {
        "id": "8de_DuzosoGQ",
        "outputId": "a47791df-2806-40e5-a56c-6c95d35b3ade"
      },
      "outputs": [
        {
          "name": "stdout",
          "output_type": "stream",
          "text": [
            "2023-11-20 18:18:00    7369597 image.zip\r\n"
          ]
        }
      ],
      "source": [
        "!aws s3 ls s3://comp576-image-data/ --profile iamadmin-general"
      ]
    },
    {
      "cell_type": "markdown",
      "metadata": {
        "collapsed": false,
        "id": "jlfNoSC5soGQ"
      },
      "source": [
        "# Object url: https://comp576-image-data.s3.us-east-2.amazonaws.com/image.zip"
      ]
    }
  ],
  "metadata": {
    "colab": {
      "provenance": []
    },
    "kernelspec": {
      "display_name": "Python 3",
      "language": "python",
      "name": "python3"
    },
    "language_info": {
      "codemirror_mode": {
        "name": "ipython",
        "version": 3
      },
      "file_extension": ".py",
      "mimetype": "text/x-python",
      "name": "python",
      "nbconvert_exporter": "python",
      "pygments_lexer": "ipython3",
      "version": "3.10.13"
    }
  },
  "nbformat": 4,
  "nbformat_minor": 0
}
